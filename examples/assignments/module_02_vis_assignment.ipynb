{
 "cells": [
  {
   "cell_type": "markdown",
   "metadata": {},
   "source": [
    "# Visualization Assignment Part I: \n",
    "\n",
    "We have now seen some of the fundamentals of `Matplotlib`. In this assignment, we will put those things to use by visualizing the `wine dataset` from https://archive.ics.uci.edu/ml/datasets/wine. I will provide two functions to handle loading the data, `load_data`, and `wine_description`. \n",
    "\n",
    "#### An Assignment in Three Parts\n",
    "\n",
    "There are three parts to this assignment: \n",
    "\n",
    "1. visualize the distribution of one or more features in the dataset; \n",
    "2. visualize the relationship between two or more features in the dataset; \n",
    "3. choose your own method of visualizing some aspect of this dataset.\n",
    "\n",
    "For each of the three visualizations, write a figure caption in the `markdown` cell below your figure. Visualization is not only about the figures that we create, a proper figure description is important to clearly communicate the intent of the visualization.\n",
    "\n",
    "#### Note:\n",
    "You are not limited to using `Matplotlib` for your visualizations! If there is another library that you prefer to use, please feel free to do so. The key is that your visualizations are communicative, not the method that you use."
   ]
  },
  {
   "cell_type": "code",
   "execution_count": 2,
   "metadata": {},
   "outputs": [],
   "source": [
    "import numpy as np\n",
    "import matplotlib as mpl\n",
    "import matplotlib.pyplot as plt\n",
    "\n",
    "from sklearn import datasets\n",
    "from typing import Tuple, List"
   ]
  },
  {
   "cell_type": "markdown",
   "metadata": {},
   "source": [
    "## Assignment Author\n",
    "\n",
    "Update the `author` variable below with your name so that I can easily track whose notebook I am viewing."
   ]
  },
  {
   "cell_type": "code",
   "execution_count": 3,
   "metadata": {},
   "outputs": [
    {
     "name": "stdout",
     "output_type": "stream",
     "text": [
      "Vis Assignment\n",
      "  author: None\n",
      "  date: 2020-09-07 19:23:48.775168\n"
     ]
    }
   ],
   "source": [
    "# Give yourself credit\n",
    "author = None\n",
    "\n",
    "def format_author(author=author):\n",
    "    import datetime\n",
    "    now = datetime.datetime.now()\n",
    "    print(f'Vis Assignment\\n  author: {author}\\n  date: {now}')\n",
    "    \n",
    "    \n",
    "format_author(author=author)"
   ]
  },
  {
   "cell_type": "markdown",
   "metadata": {},
   "source": [
    "### Data Loading\n",
    "\n",
    "I will start you off with a couple functions to load the dataset and its description. Using `load_data`, you will get the data features, the target values and the feature names. Use `wine_desciption` to see a short summary of the features along with their summary statistics."
   ]
  },
  {
   "cell_type": "code",
   "execution_count": 4,
   "metadata": {},
   "outputs": [],
   "source": [
    "def load_data() -> Tuple[np.ndarray, np.ndarray, List[str]]:\n",
    "    \"\"\"Load the wine dataset\n",
    "    \n",
    "    Returns:\n",
    "        features: the dataset features\n",
    "        target: the labels of the dataset\n",
    "        feature_names: names of each feature\n",
    "    \"\"\"\n",
    "    wine = datasets.load_wine()\n",
    "    features = wine['data']\n",
    "    target = wine['target']\n",
    "    feature_names = wine['feature_names']\n",
    "    return features, target, feature_names"
   ]
  },
  {
   "cell_type": "code",
   "execution_count": 5,
   "metadata": {},
   "outputs": [],
   "source": [
    "def wine_description() -> None:\n",
    "    \"\"\"Show the docs on the Wine dataset\"\"\"\n",
    "    wine = datasets.load_wine()\n",
    "    print(wine['DESCR'])"
   ]
  },
  {
   "cell_type": "code",
   "execution_count": 6,
   "metadata": {},
   "outputs": [],
   "source": [
    "features, target, feature_names = load_data()"
   ]
  },
  {
   "cell_type": "markdown",
   "metadata": {},
   "source": [
    "## 1. Visualize the distribution of one or more features in the data"
   ]
  },
  {
   "cell_type": "code",
   "execution_count": null,
   "metadata": {},
   "outputs": [],
   "source": []
  },
  {
   "cell_type": "markdown",
   "metadata": {},
   "source": [
    "Figure 1:"
   ]
  },
  {
   "cell_type": "markdown",
   "metadata": {},
   "source": [
    "## 2. Visualize the relationship between two or more features"
   ]
  },
  {
   "cell_type": "code",
   "execution_count": null,
   "metadata": {},
   "outputs": [],
   "source": []
  },
  {
   "cell_type": "markdown",
   "metadata": {},
   "source": [
    "Figure 2: "
   ]
  },
  {
   "cell_type": "markdown",
   "metadata": {},
   "source": [
    "## 3. Choose your own visualization\n",
    "\n",
    "There are many ways that you can choose to visualize your data, and we certainly haven't covered them all. Let's see your own take on visualizing this dataset. "
   ]
  },
  {
   "cell_type": "code",
   "execution_count": null,
   "metadata": {},
   "outputs": [],
   "source": []
  },
  {
   "cell_type": "markdown",
   "metadata": {},
   "source": [
    "Figure 3:"
   ]
  }
 ],
 "metadata": {
  "kernelspec": {
   "display_name": "Python 3",
   "language": "python",
   "name": "python3"
  },
  "language_info": {
   "codemirror_mode": {
    "name": "ipython",
    "version": 3
   },
   "file_extension": ".py",
   "mimetype": "text/x-python",
   "name": "python",
   "nbconvert_exporter": "python",
   "pygments_lexer": "ipython3",
   "version": "3.7.9"
  }
 },
 "nbformat": 4,
 "nbformat_minor": 4
}
