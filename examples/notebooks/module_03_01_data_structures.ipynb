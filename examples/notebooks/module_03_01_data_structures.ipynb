{
 "cells": [
  {
   "cell_type": "markdown",
   "metadata": {},
   "source": [
    "# Data Structures and Abstraction in Python"
   ]
  },
  {
   "cell_type": "code",
   "execution_count": 41,
   "metadata": {},
   "outputs": [],
   "source": [
    "import random"
   ]
  },
  {
   "cell_type": "markdown",
   "metadata": {},
   "source": [
    "## Functions\n",
    "\n",
    "Functions are one of the first data structures that we learn in computer science. They represent procedural abstraction, where we would like to encapsulate some operation in a repeatable fashion. We have already used functions in this course, anywhere from Python's built in `print()` to the `load_data()` which I defined for you in our visualization homework. "
   ]
  },
  {
   "cell_type": "markdown",
   "metadata": {},
   "source": [
    "### Hello Functions\n",
    "\n",
    "The main goal of procedural abstraction is to prevent us from having to repeat ourselves. Let's say that I would like to print to `stdout` the phrase `\"Hello, <name>!` to several friends. I could do something like this:"
   ]
  },
  {
   "cell_type": "code",
   "execution_count": 1,
   "metadata": {},
   "outputs": [
    {
     "name": "stdout",
     "output_type": "stream",
     "text": [
      "Hello, Jacob!\n",
      "Hello, Allie!\n",
      "Hello, Jean!\n"
     ]
    }
   ],
   "source": [
    "print(\"Hello, Jacob!\")\n",
    "print(\"Hello, Allie!\")\n",
    "print(\"Hello, Jean!\")"
   ]
  },
  {
   "cell_type": "markdown",
   "metadata": {},
   "source": [
    "I could continue retyping the pattern `print(\"Hello <friend_name>!\")` until I get carpal tunnel syndrome. Totally valid. However, I will probably get tired of this, and I will likely make a typo somewhere, creating a bug in my program. Instead, I could write a function that abstracts away the idea of this option, making my life a lot easier:"
   ]
  },
  {
   "cell_type": "code",
   "execution_count": 2,
   "metadata": {},
   "outputs": [],
   "source": [
    "def hello(name):\n",
    "    \"\"\"Greet a person with a given `name`\n",
    "    \n",
    "    This is a void function, meaning that\n",
    "    it does not return a value. It takes a single\n",
    "    parameter, `name`, and passes that to Python's\n",
    "    built in `print()` function. This abstracts \n",
    "    \n",
    "    Args:\n",
    "        name (str): the person to greet.\n",
    "    \"\"\"\n",
    "    print(f\"Hello, {name}!\")"
   ]
  },
  {
   "cell_type": "code",
   "execution_count": 3,
   "metadata": {},
   "outputs": [
    {
     "name": "stdout",
     "output_type": "stream",
     "text": [
      "Hello, Jacob!\n",
      "Hello, Allie!\n",
      "Hello, Jean!\n"
     ]
    }
   ],
   "source": [
    "hello(\"Jacob\")\n",
    "hello(\"Allie\")\n",
    "hello(\"Jean\")"
   ]
  },
  {
   "cell_type": "markdown",
   "metadata": {},
   "source": [
    "Now, all we have to do is pass in the name of our friend as a `str` to our function `hello()`. Looking at the function definition above, you see that there is a `name` argument. This allows us to vary our program's functionality depending on the argument we pass to `hello()`. We call this parametrizing our function over `name`. \n",
    "\n",
    "Functions can have 0 to many arguments. Say we would like to add two parameters:"
   ]
  },
  {
   "cell_type": "code",
   "execution_count": 4,
   "metadata": {},
   "outputs": [],
   "source": [
    "def add(param0, param1):\n",
    "    \"\"\"Add two parameters\n",
    "    \n",
    "    This function takes two arguments and\n",
    "    calls Python's `+` operator to act on\n",
    "    those two parameters.\n",
    "    \n",
    "    Args:\n",
    "        param0: the left parameter of `+`\n",
    "        param1: the right parameter of `+`\n",
    "        \n",
    "    Returns:\n",
    "        the result of `+` on the given types\n",
    "    \"\"\"\n",
    "    return param0 + param1"
   ]
  },
  {
   "cell_type": "code",
   "execution_count": 5,
   "metadata": {},
   "outputs": [],
   "source": [
    "# Python docstrings tho\n",
    "# add?"
   ]
  },
  {
   "cell_type": "code",
   "execution_count": 6,
   "metadata": {},
   "outputs": [
    {
     "data": {
      "text/plain": [
       "3"
      ]
     },
     "execution_count": 6,
     "metadata": {},
     "output_type": "execute_result"
    }
   ],
   "source": [
    "# Calling `add` on two integers\n",
    "add(1, 2)"
   ]
  },
  {
   "cell_type": "code",
   "execution_count": 7,
   "metadata": {},
   "outputs": [
    {
     "data": {
      "text/plain": [
       "3.0"
      ]
     },
     "execution_count": 7,
     "metadata": {},
     "output_type": "execute_result"
    }
   ],
   "source": [
    "# Calling `add` on a float and int\n",
    "add(1.0, 2)"
   ]
  },
  {
   "cell_type": "code",
   "execution_count": 8,
   "metadata": {},
   "outputs": [
    {
     "data": {
      "text/plain": [
       "'hello world'"
      ]
     },
     "execution_count": 8,
     "metadata": {},
     "output_type": "execute_result"
    }
   ],
   "source": [
    "# Calling `add` on two str\n",
    "add('hello', ' world')"
   ]
  },
  {
   "cell_type": "code",
   "execution_count": 9,
   "metadata": {},
   "outputs": [],
   "source": [
    "# Calling `add` on a str and an int?\n",
    "# add(\"hello\", 1)"
   ]
  },
  {
   "cell_type": "markdown",
   "metadata": {},
   "source": [
    "### Three Things to Consider with Functions:\n",
    "\n",
    "\n",
    "1. A function definition is like a small program and calling the function is the same as running this \"small program\"\n",
    "2. The arguments of a function are the input of the small program, and its behavior depends upon them. \n",
    "3. Functions encapsulate state of your programs"
   ]
  },
  {
   "cell_type": "markdown",
   "metadata": {},
   "source": [
    "## Classes \n",
    "\n",
    "Classes allow us to maintain state while including some functionality related to that state."
   ]
  },
  {
   "cell_type": "code",
   "execution_count": 20,
   "metadata": {},
   "outputs": [],
   "source": [
    "class Coordinate:\n",
    "    \"\"\"Euclidean coordinate\n",
    "    \n",
    "    Args:\n",
    "        x: x-dimension location\n",
    "        y: y-dimension location\n",
    "        z: z-dimension location\n",
    "    \"\"\"\n",
    "    \n",
    "    def __init__(self, x, y, z):\n",
    "        self.x = x\n",
    "        self.y = y\n",
    "        self.z = z\n",
    "        \n",
    "    def __repr__(self):\n",
    "        return f'Coordinate(x={self.x}, y={self.y}, z={self.z})'\n",
    "    \n",
    "    def __eq__(self, other):\n",
    "        \"\"\"Check if some `other` Coordinate is equal to this one\"\"\"\n",
    "        return self.x == other.x and self.y == other.y and self.z == other.z\n",
    "        \n",
    "    def translate_x(self, direction):\n",
    "        \"\"\"Translate in the x `direction`\"\"\"\n",
    "        self.x += direction\n",
    "        \n",
    "    def translate_y(self, direction):\n",
    "        \"\"\"Translate in the y `direction`\"\"\"\n",
    "        self.y += direction\n",
    "        \n",
    "    def translate_z(self, direction):\n",
    "        \"\"\"Translate in the z `direction`\"\"\"\n",
    "        self.z += direction\n",
    "        \n",
    "    def get_position(self):\n",
    "        return (self.x, self.y, self.z)"
   ]
  },
  {
   "cell_type": "code",
   "execution_count": 46,
   "metadata": {},
   "outputs": [],
   "source": [
    "def create_random_coordinate():\n",
    "    \"\"\"Create a random coordinate\"\"\"\n",
    "    coords = [random.randint(0, 100) for x in range(3)]\n",
    "    return Coordinate(coords[0], coords[1], coords[2])"
   ]
  },
  {
   "cell_type": "code",
   "execution_count": 47,
   "metadata": {},
   "outputs": [
    {
     "data": {
      "text/plain": [
       "Coordinate(x=92, y=12, z=51)"
      ]
     },
     "execution_count": 47,
     "metadata": {},
     "output_type": "execute_result"
    }
   ],
   "source": [
    "create_random_coordinate()"
   ]
  },
  {
   "cell_type": "code",
   "execution_count": 48,
   "metadata": {},
   "outputs": [],
   "source": [
    "coordinates = [create_random_coordinate() for _ in range(100)]"
   ]
  },
  {
   "cell_type": "code",
   "execution_count": 49,
   "metadata": {},
   "outputs": [
    {
     "data": {
      "text/plain": [
       "[Coordinate(x=44, y=15, z=85),\n",
       " Coordinate(x=57, y=51, z=65),\n",
       " Coordinate(x=22, y=22, z=81),\n",
       " Coordinate(x=85, y=55, z=56),\n",
       " Coordinate(x=80, y=21, z=39),\n",
       " Coordinate(x=52, y=55, z=37),\n",
       " Coordinate(x=89, y=97, z=83),\n",
       " Coordinate(x=35, y=70, z=18),\n",
       " Coordinate(x=84, y=78, z=44),\n",
       " Coordinate(x=46, y=61, z=78),\n",
       " Coordinate(x=51, y=41, z=47),\n",
       " Coordinate(x=25, y=85, z=14),\n",
       " Coordinate(x=94, y=84, z=6),\n",
       " Coordinate(x=82, y=43, z=72),\n",
       " Coordinate(x=97, y=66, z=89),\n",
       " Coordinate(x=77, y=18, z=84),\n",
       " Coordinate(x=88, y=48, z=42),\n",
       " Coordinate(x=15, y=85, z=16),\n",
       " Coordinate(x=20, y=91, z=53),\n",
       " Coordinate(x=1, y=6, z=14),\n",
       " Coordinate(x=19, y=86, z=11),\n",
       " Coordinate(x=29, y=97, z=30),\n",
       " Coordinate(x=82, y=0, z=72),\n",
       " Coordinate(x=5, y=41, z=69),\n",
       " Coordinate(x=97, y=27, z=82),\n",
       " Coordinate(x=85, y=90, z=11),\n",
       " Coordinate(x=64, y=8, z=1),\n",
       " Coordinate(x=17, y=50, z=9),\n",
       " Coordinate(x=67, y=32, z=17),\n",
       " Coordinate(x=52, y=81, z=78),\n",
       " Coordinate(x=33, y=80, z=23),\n",
       " Coordinate(x=64, y=59, z=49),\n",
       " Coordinate(x=26, y=37, z=91),\n",
       " Coordinate(x=15, y=12, z=17),\n",
       " Coordinate(x=70, y=32, z=97),\n",
       " Coordinate(x=31, y=69, z=81),\n",
       " Coordinate(x=59, y=29, z=12),\n",
       " Coordinate(x=39, y=49, z=50),\n",
       " Coordinate(x=90, y=73, z=38),\n",
       " Coordinate(x=84, y=56, z=13),\n",
       " Coordinate(x=85, y=57, z=65),\n",
       " Coordinate(x=47, y=55, z=22),\n",
       " Coordinate(x=27, y=54, z=35),\n",
       " Coordinate(x=57, y=30, z=86),\n",
       " Coordinate(x=19, y=59, z=33),\n",
       " Coordinate(x=47, y=62, z=36),\n",
       " Coordinate(x=29, y=86, z=9),\n",
       " Coordinate(x=36, y=59, z=14),\n",
       " Coordinate(x=70, y=56, z=48),\n",
       " Coordinate(x=12, y=62, z=60),\n",
       " Coordinate(x=7, y=70, z=3),\n",
       " Coordinate(x=14, y=13, z=76),\n",
       " Coordinate(x=70, y=55, z=80),\n",
       " Coordinate(x=99, y=6, z=27),\n",
       " Coordinate(x=9, y=38, z=24),\n",
       " Coordinate(x=29, y=92, z=6),\n",
       " Coordinate(x=92, y=68, z=77),\n",
       " Coordinate(x=78, y=68, z=68),\n",
       " Coordinate(x=53, y=79, z=78),\n",
       " Coordinate(x=26, y=9, z=89),\n",
       " Coordinate(x=66, y=15, z=89),\n",
       " Coordinate(x=52, y=46, z=60),\n",
       " Coordinate(x=82, y=21, z=36),\n",
       " Coordinate(x=21, y=27, z=26),\n",
       " Coordinate(x=84, y=69, z=99),\n",
       " Coordinate(x=90, y=83, z=35),\n",
       " Coordinate(x=47, y=90, z=86),\n",
       " Coordinate(x=25, y=35, z=84),\n",
       " Coordinate(x=26, y=55, z=11),\n",
       " Coordinate(x=10, y=0, z=63),\n",
       " Coordinate(x=3, y=1, z=10),\n",
       " Coordinate(x=88, y=30, z=43),\n",
       " Coordinate(x=97, y=75, z=96),\n",
       " Coordinate(x=20, y=29, z=79),\n",
       " Coordinate(x=1, y=12, z=40),\n",
       " Coordinate(x=56, y=26, z=51),\n",
       " Coordinate(x=83, y=69, z=60),\n",
       " Coordinate(x=86, y=100, z=44),\n",
       " Coordinate(x=10, y=63, z=31),\n",
       " Coordinate(x=75, y=18, z=16),\n",
       " Coordinate(x=88, y=98, z=72),\n",
       " Coordinate(x=38, y=61, z=98),\n",
       " Coordinate(x=83, y=45, z=22),\n",
       " Coordinate(x=74, y=43, z=64),\n",
       " Coordinate(x=65, y=38, z=45),\n",
       " Coordinate(x=62, y=1, z=28),\n",
       " Coordinate(x=76, y=53, z=0),\n",
       " Coordinate(x=18, y=32, z=29),\n",
       " Coordinate(x=46, y=0, z=18),\n",
       " Coordinate(x=3, y=42, z=71),\n",
       " Coordinate(x=2, y=23, z=69),\n",
       " Coordinate(x=58, y=25, z=32),\n",
       " Coordinate(x=11, y=85, z=14),\n",
       " Coordinate(x=7, y=68, z=79),\n",
       " Coordinate(x=43, y=19, z=98),\n",
       " Coordinate(x=93, y=69, z=59),\n",
       " Coordinate(x=29, y=76, z=73),\n",
       " Coordinate(x=67, y=41, z=62),\n",
       " Coordinate(x=5, y=9, z=59),\n",
       " Coordinate(x=16, y=76, z=37)]"
      ]
     },
     "execution_count": 49,
     "metadata": {},
     "output_type": "execute_result"
    }
   ],
   "source": [
    "coordinates"
   ]
  },
  {
   "cell_type": "code",
   "execution_count": 57,
   "metadata": {},
   "outputs": [],
   "source": [
    "coordinates.append(Coordinate(x=16, y=76, z=37))"
   ]
  },
  {
   "cell_type": "code",
   "execution_count": 60,
   "metadata": {},
   "outputs": [],
   "source": [
    "num_duplicates = 0\n",
    "for i in range(len(coordinates)):\n",
    "    for j in range(len(coordinates)):\n",
    "        if i != j and coordinates[i] == coordinates[j]:\n",
    "            num_duplicates += 1"
   ]
  },
  {
   "cell_type": "code",
   "execution_count": 61,
   "metadata": {},
   "outputs": [
    {
     "data": {
      "text/plain": [
       "2"
      ]
     },
     "execution_count": 61,
     "metadata": {},
     "output_type": "execute_result"
    }
   ],
   "source": [
    "num_duplicates"
   ]
  },
  {
   "cell_type": "code",
   "execution_count": null,
   "metadata": {},
   "outputs": [],
   "source": []
  }
 ],
 "metadata": {
  "kernelspec": {
   "display_name": "Python 3",
   "language": "python",
   "name": "python3"
  },
  "language_info": {
   "codemirror_mode": {
    "name": "ipython",
    "version": 3
   },
   "file_extension": ".py",
   "mimetype": "text/x-python",
   "name": "python",
   "nbconvert_exporter": "python",
   "pygments_lexer": "ipython3",
   "version": "3.7.6"
  }
 },
 "nbformat": 4,
 "nbformat_minor": 4
}
