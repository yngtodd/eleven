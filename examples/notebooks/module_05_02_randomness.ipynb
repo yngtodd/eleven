{
 "cells": [
  {
   "cell_type": "markdown",
   "metadata": {},
   "source": [
    "# Managing Randomness in Experiments"
   ]
  },
  {
   "cell_type": "code",
   "execution_count": 1,
   "metadata": {},
   "outputs": [],
   "source": [
    "import os\n",
    "import torch\n",
    "import random\n",
    "import numpy as np\n",
    "\n",
    "import itertools\n",
    "import numpy as np\n",
    "import pandas as pd\n",
    "import matplotlib as mpl\n",
    "import matplotlib.pyplot as plt\n",
    "\n",
    "from sklearn import datasets\n",
    "from sklearn import svm\n",
    "from sklearn import tree\n",
    "from sklearn.ensemble import AdaBoostClassifier\n",
    "from sklearn.tree import DecisionTreeClassifier\n",
    "from sklearn.metrics import zero_one_loss\n",
    "from sklearn.metrics import accuracy_score\n",
    "from sklearn.metrics import confusion_matrix\n",
    "\n",
    "from dataclasses import dataclass"
   ]
  },
  {
   "cell_type": "markdown",
   "metadata": {},
   "source": [
    "# Holding Random State in a Class\n",
    "\n",
    "I typically write a class that manages the various random states used in my experiments."
   ]
  },
  {
   "cell_type": "code",
   "execution_count": 2,
   "metadata": {},
   "outputs": [],
   "source": [
    "@dataclass\n",
    "class Seeds:\n",
    "    pythonhash: int = 0\n",
    "    pythonrand: int = 0\n",
    "    numpy: int = 0\n",
    "    torch: int = 0\n",
    "\n",
    "\n",
    "class SeedControl:\n",
    "    \"\"\"Manage random seeds\"\"\"\n",
    "\n",
    "    def __init__(self, seeds=Seeds()):\n",
    "        self.s = seeds\n",
    "        self._set_seeds()\n",
    "\n",
    "    def update_all_seeds(self, seed: int):\n",
    "        \"\"\"Fix all seeds to the same seed\"\"\"\n",
    "        self.s = Seeds(\n",
    "            pythonhash=seed, \n",
    "            pythonrand=seed, \n",
    "            numpy=seed, \n",
    "            torch=seed\n",
    "        )\n",
    "        \n",
    "        self._set_seeds()\n",
    "\n",
    "    def _set_seeds(self):\n",
    "        \"\"\"Set the random seeds in the environement\"\"\"\n",
    "        os.environ['PYTHONHASHSEED'] = str(self.s.pythonhash)\n",
    "        random.seed(self.s.pythonrand)\n",
    "        np.random.seed(self.s.numpy)\n",
    "        torch.manual_seed(self.s.torch)\n",
    "\n",
    "    def get_seeds(self):\n",
    "        return {\n",
    "            'PythonHash': self.s.pythonhash,\n",
    "            'PythonRand': self.s.pythonrand,\n",
    "            'Numpy': self.s.numpy,\n",
    "            'Torch': self.s.torch\n",
    "        }"
   ]
  },
  {
   "cell_type": "code",
   "execution_count": 3,
   "metadata": {},
   "outputs": [],
   "source": [
    "def print_random_states():\n",
    "    \"\"\"\"\"\"\n",
    "    numpy_state = np.random.get_state()[1][0]\n",
    "    torch_state = torch.random.initial_seed()\n",
    "    python_hash_state = os.environ['PYTHONHASHSEED']\n",
    "    \n",
    "    print(f\"Numpy's random state: {numpy_state}\")\n",
    "    print(f\"Pytorch's random state: {torch_state}\")\n",
    "    print(f\"Python's environment state: {python_hash_state}\")"
   ]
  },
  {
   "cell_type": "code",
   "execution_count": 4,
   "metadata": {},
   "outputs": [],
   "source": [
    "seed_control = SeedControl()"
   ]
  },
  {
   "cell_type": "code",
   "execution_count": 5,
   "metadata": {},
   "outputs": [
    {
     "data": {
      "text/plain": [
       "{'PythonHash': 0, 'PythonRand': 0, 'Numpy': 0, 'Torch': 0}"
      ]
     },
     "execution_count": 5,
     "metadata": {},
     "output_type": "execute_result"
    }
   ],
   "source": [
    "seed_control.get_seeds()"
   ]
  },
  {
   "cell_type": "code",
   "execution_count": 6,
   "metadata": {},
   "outputs": [
    {
     "name": "stdout",
     "output_type": "stream",
     "text": [
      "Numpy's random state: 0\n",
      "Pytorch's random state: 0\n",
      "Python's environment state: 0\n"
     ]
    }
   ],
   "source": [
    "print_random_states()"
   ]
  },
  {
   "cell_type": "code",
   "execution_count": 7,
   "metadata": {},
   "outputs": [],
   "source": [
    "seed_control.update_all_seeds(10)"
   ]
  },
  {
   "cell_type": "code",
   "execution_count": 8,
   "metadata": {},
   "outputs": [
    {
     "data": {
      "text/plain": [
       "{'PythonHash': 10, 'PythonRand': 10, 'Numpy': 10, 'Torch': 10}"
      ]
     },
     "execution_count": 8,
     "metadata": {},
     "output_type": "execute_result"
    }
   ],
   "source": [
    "seed_control.get_seeds()"
   ]
  },
  {
   "cell_type": "code",
   "execution_count": 9,
   "metadata": {},
   "outputs": [
    {
     "name": "stdout",
     "output_type": "stream",
     "text": [
      "Numpy's random state: 10\n",
      "Pytorch's random state: 10\n",
      "Python's environment state: 10\n"
     ]
    }
   ],
   "source": [
    "print_random_states()"
   ]
  },
  {
   "cell_type": "markdown",
   "metadata": {},
   "source": [
    "## A Note on Setting Seeds\n",
    "\n",
    "Setting a seed does not mean that all subsequent calls that require randomness will be fixed the same value! The seed sets a psuedorandom state for sequences of random numbers. Check this out:"
   ]
  },
  {
   "cell_type": "code",
   "execution_count": 14,
   "metadata": {},
   "outputs": [],
   "source": [
    "seed_control = SeedControl()"
   ]
  },
  {
   "cell_type": "code",
   "execution_count": 15,
   "metadata": {},
   "outputs": [
    {
     "name": "stdout",
     "output_type": "stream",
     "text": [
      "1st random number =  0.8444218515250481\n",
      "2nd random number =  0.7579544029403025\n",
      "1st random int =  54\n",
      "2nd random int =  6\n"
     ]
    }
   ],
   "source": [
    "print('1st random number = ', random.random())\n",
    "print('2nd random number = ', random.random())\n",
    "print('1st random int = ', random.randint(1, 100))\n",
    "print('2nd random int = ', random.randint(1, 100))"
   ]
  },
  {
   "cell_type": "code",
   "execution_count": 16,
   "metadata": {},
   "outputs": [],
   "source": [
    "# resetting the seed back to it's starting value\n",
    "seed_control = SeedControl()"
   ]
  },
  {
   "cell_type": "code",
   "execution_count": 17,
   "metadata": {},
   "outputs": [
    {
     "name": "stdout",
     "output_type": "stream",
     "text": [
      "\n",
      "3rd random number =  0.8444218515250481\n",
      "4th random number =  0.7579544029403025\n",
      "3rd random int =  54\n",
      "4th random int =  6\n"
     ]
    }
   ],
   "source": [
    "print('\\n3rd random number = ', random.random())\n",
    "print('4th random number = ', random.random())\n",
    "print('3rd random int = ', random.randint(1, 100))\n",
    "print('4th random int = ', random.randint(1, 100))"
   ]
  },
  {
   "cell_type": "markdown",
   "metadata": {},
   "source": [
    "# Random Variation in our Data"
   ]
  },
  {
   "cell_type": "code",
   "execution_count": null,
   "metadata": {},
   "outputs": [],
   "source": []
  }
 ],
 "metadata": {
  "kernelspec": {
   "display_name": "Python 3",
   "language": "python",
   "name": "python3"
  },
  "language_info": {
   "codemirror_mode": {
    "name": "ipython",
    "version": 3
   },
   "file_extension": ".py",
   "mimetype": "text/x-python",
   "name": "python",
   "nbconvert_exporter": "python",
   "pygments_lexer": "ipython3",
   "version": "3.7.6"
  }
 },
 "nbformat": 4,
 "nbformat_minor": 4
}
